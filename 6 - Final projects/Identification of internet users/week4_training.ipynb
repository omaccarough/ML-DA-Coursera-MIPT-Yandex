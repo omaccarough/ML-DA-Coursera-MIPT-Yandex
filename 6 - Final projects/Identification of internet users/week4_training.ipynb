{
 "cells": [
  {
   "cell_type": "markdown",
   "metadata": {},
   "source": [
    "<center>\n",
    "<img src=\"https://habrastorage.org/web/677/8e1/337/6778e1337c3d4b159d7e99df94227cb2.jpg\"/>\n",
    "## Специализация \"Машинное обучение и анализ данных\"\n",
    "<center>Автор материала: программист-исследователь Mail.Ru Group, старший преподаватель Факультета Компьютерных Наук ВШЭ [Юрий Кашницкий](https://yorko.github.io/)"
   ]
  },
  {
   "cell_type": "markdown",
   "metadata": {},
   "source": [
    "# <center> Capstone проект №1 <br> Идентификация пользователей по посещенным веб-страницам\n",
    "<img src='http://i.istockimg.com/file_thumbview_approve/21546327/5/stock-illustration-21546327-identification-de-l-utilisateur.jpg'>\n",
    "\n",
    "# <center>Неделя 4.  Сравнение алгоритмов классификации\n",
    "\n",
    "Теперь мы наконец подойдем к обучению моделей классификации, сравним на кросс-валидации несколько алгоритмов, разберемся, какие параметры длины сессии (*session_length* и *window_size*) лучше использовать. Также для выбранного алгоритма построим кривые валидации (как качество классификации зависит от одного из гиперпараметров алгоритма) и кривые обучения (как качество классификации зависит от объема выборки).\n",
    "\n",
    "**План 4 недели:**\n",
    "- Часть 1. Сравнение нескольких алгоритмов на сессиях из 10 сайтов\n",
    "- Часть 2. Выбор параметров – длины сессии и ширины окна\n",
    "- Часть 3. Идентификация  конкретного пользователя и кривые обучения\n",
    " \n",
    "\n",
    "\n",
    "**В этой части проекта Вам могут быть полезны видеозаписи следующих лекций курса \"Обучение на размеченных данных\":**\n",
    "   - [Линейная классификация](https://www.coursera.org/learn/supervised-learning/lecture/jqLcO/linieinaia-klassifikatsiia)\n",
    "   - [Сравнение алгоритмов и выбор гиперпараметров](https://www.coursera.org/learn/supervised-learning/lecture/aF79U/sravnieniie-alghoritmov-i-vybor-ghipierparamietrov)\n",
    "   - [Кросс-валидация. Sklearn.cross_validation](https://www.coursera.org/learn/supervised-learning/lecture/XbHEk/kross-validatsiia-sklearn-cross-validation)\n",
    "   - [Линейные модели. Sklearn.linear_model. Классификация](https://www.coursera.org/learn/supervised-learning/lecture/EBg9t/linieinyie-modieli-sklearn-linear-model-klassifikatsiia)\n",
    "   - и многие другие\n"
   ]
  },
  {
   "cell_type": "markdown",
   "metadata": {},
   "source": [
    "### Задание\n",
    "1. Заполните код в этой тетрадке \n",
    "2. Если вы проходите специализацию Яндеса и МФТИ, пошлите файл с ответами в соответствующем Programming Assignment. <br> Если вы проходите курс ODS, выберите ответы в [веб-форме](https://docs.google.com/forms/d/12VB7kmzDoSVzSpQNaJp0tR-2t8K8PynQopP3dypf7i4).  "
   ]
  },
  {
   "cell_type": "code",
   "execution_count": 1,
   "metadata": {},
   "outputs": [],
   "source": [
    "# pip install watermark\n",
    "%load_ext watermark"
   ]
  },
  {
   "cell_type": "code",
   "execution_count": 2,
   "metadata": {},
   "outputs": [
    {
     "name": "stdout",
     "output_type": "stream",
     "text": [
      "Python implementation: CPython\n",
      "Python version       : 3.8.3\n",
      "IPython version      : 7.16.1\n",
      "\n",
      "numpy      : 1.19.4\n",
      "scipy      : 1.5.0\n",
      "pandas     : 1.0.5\n",
      "matplotlib : 3.2.2\n",
      "statsmodels: 0.11.1\n",
      "sklearn    : 0.23.1\n",
      "\n",
      "Compiler    : Clang 10.0.0 \n",
      "OS          : Darwin\n",
      "Release     : 20.2.0\n",
      "Machine     : x86_64\n",
      "Processor   : i386\n",
      "CPU cores   : 4\n",
      "Architecture: 64bit\n",
      "\n",
      "Git hash: 7bc4827084e431fe6d1d6ff0e37105917acd5aeb\n",
      "\n"
     ]
    }
   ],
   "source": [
    "%watermark -v -m -p numpy,scipy,pandas,matplotlib,statsmodels,sklearn -g"
   ]
  },
  {
   "cell_type": "code",
   "execution_count": 3,
   "metadata": {},
   "outputs": [],
   "source": [
    "from __future__ import division, print_function\n",
    "# отключим всякие предупреждения Anaconda\n",
    "import warnings\n",
    "warnings.filterwarnings('ignore')\n",
    "from time import time\n",
    "import itertools\n",
    "import os\n",
    "import numpy as np\n",
    "import pandas as pd\n",
    "import seaborn as sns\n",
    "%matplotlib inline\n",
    "from matplotlib import pyplot as plt\n",
    "import pickle\n",
    "from scipy.sparse import csr_matrix\n",
    "from sklearn.model_selection import train_test_split, cross_val_score, StratifiedKFold, GridSearchCV\n",
    "from sklearn.metrics import accuracy_score, f1_score"
   ]
  },
  {
   "cell_type": "code",
   "execution_count": 4,
   "metadata": {},
   "outputs": [],
   "source": [
    "# Поменяйте на свой путь к данным\n",
    "PATH_TO_DATA = 'capstone_user_identification'"
   ]
  },
  {
   "cell_type": "markdown",
   "metadata": {},
   "source": [
    "## Часть 1. Сравнение нескольких алгоритмов на сессиях из 10 сайтов"
   ]
  },
  {
   "cell_type": "markdown",
   "metadata": {},
   "source": [
    "**Загрузим сериализованные ранее объекты *X_sparse_10users* и *y_10users*, соответствующие обучающей выборке для 10 пользователей.**"
   ]
  },
  {
   "cell_type": "code",
   "execution_count": 5,
   "metadata": {},
   "outputs": [],
   "source": [
    "with open(os.path.join(PATH_TO_DATA, \n",
    "         'X_sparse_10users.pkl'), 'rb') as X_sparse_10users_pkl:\n",
    "    X_sparse_10users = pickle.load(X_sparse_10users_pkl)\n",
    "with open(os.path.join(PATH_TO_DATA, \n",
    "                       'y_10users.pkl'), 'rb') as y_10users_pkl:\n",
    "    y_10users = pickle.load(y_10users_pkl)"
   ]
  },
  {
   "cell_type": "markdown",
   "metadata": {},
   "source": [
    "**Здесь более 14 тысяч сессий и почти 5 тысяч уникальных посещенных сайтов.**"
   ]
  },
  {
   "cell_type": "code",
   "execution_count": 6,
   "metadata": {},
   "outputs": [
    {
     "data": {
      "text/plain": [
       "(14061, 4913)"
      ]
     },
     "execution_count": 6,
     "metadata": {},
     "output_type": "execute_result"
    }
   ],
   "source": [
    "X_sparse_10users.shape"
   ]
  },
  {
   "cell_type": "markdown",
   "metadata": {},
   "source": [
    "**Разобьем выборку на 2 части. На одной будем проводить кросс-валидацию, на второй – оценивать модель, обученную после кросс-валидации.**"
   ]
  },
  {
   "cell_type": "code",
   "execution_count": 7,
   "metadata": {},
   "outputs": [],
   "source": [
    "X_train, X_valid, y_train, y_valid = train_test_split(X_sparse_10users, y_10users, \n",
    "                                                      test_size=0.3, random_state=17, \n",
    "                                                      stratify=y_10users)"
   ]
  },
  {
   "cell_type": "markdown",
   "metadata": {},
   "source": [
    "**Зададим заранее тип кросс-валидации: 3-кратная, с перемешиванием, параметр random_state=17 – для воспроизводимости.**"
   ]
  },
  {
   "cell_type": "code",
   "execution_count": 8,
   "metadata": {},
   "outputs": [],
   "source": [
    "skf = StratifiedKFold(n_splits=3, shuffle=True, random_state=17)"
   ]
  },
  {
   "cell_type": "markdown",
   "metadata": {},
   "source": [
    "**Вспомогательная функция для отрисовки кривых валидации после запуска GridSearchCV (или RandomizedCV).**"
   ]
  },
  {
   "cell_type": "code",
   "execution_count": 9,
   "metadata": {},
   "outputs": [],
   "source": [
    "def plot_validation_curves(param_values, grid_cv_results_):\n",
    "    train_mu, train_std = grid_cv_results_['mean_train_score'], grid_cv_results_['std_train_score']\n",
    "    valid_mu, valid_std = grid_cv_results_['mean_test_score'], grid_cv_results_['std_test_score']\n",
    "    train_line = plt.plot(param_values, train_mu, '-', label='train', color='green')\n",
    "    valid_line = plt.plot(param_values, valid_mu, '-', label='test', color='red')\n",
    "    plt.fill_between(param_values, train_mu - train_std, train_mu + train_std, edgecolor='none',\n",
    "                     facecolor=train_line[0].get_color(), alpha=0.2)\n",
    "    plt.fill_between(param_values, valid_mu - valid_std, valid_mu + valid_std, edgecolor='none',\n",
    "                     facecolor=valid_line[0].get_color(), alpha=0.2)\n",
    "    plt.legend()"
   ]
  },
  {
   "cell_type": "markdown",
   "metadata": {},
   "source": [
    "**1. Обучите `KNeighborsClassifier` со 100 ближайшими соседями (остальные параметры оставьте по умолчанию, только `n_jobs`=-1 для распараллеливания) и посмотрите на долю правильных ответов на 3-кратной кросс-валидации (ради воспроизводимости используйте для этого объект `StratifiedKFold` `skf`) по выборке `(X_train, y_train)` и отдельно на выборке `(X_valid, y_valid)`.**"
   ]
  },
  {
   "cell_type": "code",
   "execution_count": 10,
   "metadata": {},
   "outputs": [],
   "source": [
    "from sklearn.neighbors import KNeighborsClassifier"
   ]
  },
  {
   "cell_type": "code",
   "execution_count": 11,
   "metadata": {},
   "outputs": [
    {
     "name": "stdout",
     "output_type": "stream",
     "text": [
      "kNN cross_val_score: 0.5593373897012363\n",
      "kNN valid accuracy score: 0.584024650391088\n"
     ]
    }
   ],
   "source": [
    "knn = KNeighborsClassifier(n_neighbors=100)\n",
    "knn_cross_val_score = cross_val_score(knn, X_train, y_train, \n",
    "                                      cv=skf, scoring='accuracy').mean()\n",
    "print('kNN cross_val_score: {}'.format(knn_cross_val_score))\n",
    "knn.fit(X_train, y_train)\n",
    "knn_valid_score = accuracy_score(y_valid, knn.predict(X_valid))\n",
    "print('kNN valid accuracy score: {}'.format(knn_valid_score))"
   ]
  },
  {
   "cell_type": "markdown",
   "metadata": {},
   "source": [
    "**<font color='red'>Вопрос 1. </font> Посчитайте доли правильных ответов для KNeighborsClassifier на кросс-валидации и отложенной выборке. Округлите каждое до 3 знаков после запятой и введите через пробел.**"
   ]
  },
  {
   "cell_type": "code",
   "execution_count": 12,
   "metadata": {},
   "outputs": [],
   "source": [
    "def write_answer_to_file(answer, file):\n",
    "    with open(file, 'w') as f:\n",
    "        f.write(' '.join(map(str, answer)))\n",
    "\n",
    "answer4_1 = [round(x, 3) for x in [knn_cross_val_score, knn_valid_score]]\n",
    "write_answer_to_file(answer4_1, 'answers/week4/answer4_1.txt')"
   ]
  },
  {
   "cell_type": "markdown",
   "metadata": {},
   "source": [
    "**2. Обучите случайный лес (`RandomForestClassifier`) из 100 деревьев (для воспроизводимости `random_state`=17). Посмотрите на OOB-оценку (для этого надо сразу установить `oob_score`=True) и на долю правильных ответов на выборке `(X_valid, y_valid)`. Для распараллеливания задайте `n_jobs`=-1.**"
   ]
  },
  {
   "cell_type": "code",
   "execution_count": 13,
   "metadata": {},
   "outputs": [],
   "source": [
    "from sklearn.ensemble import RandomForestClassifier"
   ]
  },
  {
   "cell_type": "code",
   "execution_count": 14,
   "metadata": {},
   "outputs": [
    {
     "name": "stdout",
     "output_type": "stream",
     "text": [
      "RandomForestClassifier OOB-score: 0.7172322698638488\n",
      "RandomForestClassifier valid accuracy score: 0.7312159279450107\n"
     ]
    }
   ],
   "source": [
    "forest = RandomForestClassifier(n_estimators=100,oob_score=True, random_state=17)\n",
    "forest.fit(X_train, y_train)\n",
    "print('RandomForestClassifier OOB-score: {}'.format(forest.oob_score_))\n",
    "forest_valid_score = accuracy_score(y_valid, forest.predict(X_valid))\n",
    "print('RandomForestClassifier valid accuracy score: {}'.format(forest_valid_score))"
   ]
  },
  {
   "cell_type": "markdown",
   "metadata": {},
   "source": [
    "**<font color='red'>Вопрос 2. </font> Посчитайте доли правильных ответов для `RandomForestClassifier` при Out-of-Bag оценке и на отложенной выборке. Округлите каждое до 3 знаков после запятой и введите через пробел.**"
   ]
  },
  {
   "cell_type": "code",
   "execution_count": 15,
   "metadata": {},
   "outputs": [
    {
     "name": "stdout",
     "output_type": "stream",
     "text": [
      "0.717 0.731\n"
     ]
    }
   ],
   "source": [
    "answer4_2 = [round(x, 3) for x in [forest.oob_score_, forest_valid_score]]\n",
    "write_answer_to_file(answer4_2, 'answers/week4/answer4_2.txt')\n",
    "print(' '.join(map(str,answer4_2)))"
   ]
  },
  {
   "cell_type": "code",
   "execution_count": null,
   "metadata": {
    "collapsed": true
   },
   "outputs": [],
   "source": [
    "!cat answer4_2.txt"
   ]
  },
  {
   "cell_type": "markdown",
   "metadata": {},
   "source": [
    "**3. Обучите логистическую регрессию (`LogisticRegression`) с параметром `C` по умолчанию и `random_state`=17 (для воспроизводимости). Посмотрите на долю правильных ответов на кросс-валидации (используйте объект `skf`, созданный ранее) и на выборке `(X_valid, y_valid)`. Для распараллеливания задайте `n_jobs=-1`.**"
   ]
  },
  {
   "cell_type": "code",
   "execution_count": 16,
   "metadata": {},
   "outputs": [],
   "source": [
    "from sklearn.linear_model import LogisticRegression, LogisticRegressionCV"
   ]
  },
  {
   "cell_type": "code",
   "execution_count": 17,
   "metadata": {},
   "outputs": [
    {
     "name": "stdout",
     "output_type": "stream",
     "text": [
      "LogisticRegression cross_val_score: 0.7606189739891912\n",
      "LogisticRegression valid accuracy score: 0.7767243422611994\n"
     ]
    }
   ],
   "source": [
    "logit = LogisticRegression(random_state=17)\n",
    "logit_cross_val_score = cross_val_score(logit, X_train, y_train, \n",
    "                                        cv=skf, scoring='accuracy').mean()\n",
    "print('LogisticRegression cross_val_score: {}'.format(logit_cross_val_score))\n",
    "logit.fit(X_train, y_train)\n",
    "logit_valid_score = accuracy_score(y_valid, logit.predict(X_valid))\n",
    "print('LogisticRegression valid accuracy score: {}'.format(logit_valid_score))"
   ]
  },
  {
   "cell_type": "markdown",
   "metadata": {},
   "source": [
    "**Почитайте документацию к [LogisticRegressionCV](http://scikit-learn.org/stable/modules/generated/sklearn.linear_model.LogisticRegressionCV.html). Логистическая регрессия хорошо изучена, и для нее существуют алгоритмы быстрого подбора параметра регуляризации `C` (быстрее, чем с `GridSearchCV`).**\n",
    "\n",
    "**С помощью `LogisticRegressionCV` подберите параметр `C` для `LogisticRegression` сначала в широком диапазоне: 10 значений от 1e-4 до 1e2, используйте `logspace` из `NumPy`. Укажите у `LogisticRegressionCV` параметры `multi_class`='multinomial' и `random_state`=17. Для кросс-валидации используйте объект `skf`, созданный ранее. Для распараллеливания задайте `n_jobs=-1`.**\n",
    "\n",
    "**Нарисуйте кривые валидации по параметру `C`.**"
   ]
  },
  {
   "cell_type": "code",
   "execution_count": 18,
   "metadata": {},
   "outputs": [
    {
     "name": "stdout",
     "output_type": "stream",
     "text": [
      "CPU times: user 59.4 s, sys: 4.04 s, total: 1min 3s\n",
      "Wall time: 24.7 s\n"
     ]
    },
    {
     "data": {
      "text/plain": [
       "LogisticRegressionCV(Cs=array([1.00000000e-04, 4.64158883e-04, 2.15443469e-03, 1.00000000e-02,\n",
       "       4.64158883e-02, 2.15443469e-01, 1.00000000e+00, 4.64158883e+00,\n",
       "       2.15443469e+01, 1.00000000e+02]),\n",
       "                     cv=StratifiedKFold(n_splits=3, random_state=17, shuffle=True),\n",
       "                     multi_class='multinomial', random_state=17)"
      ]
     },
     "execution_count": 18,
     "metadata": {},
     "output_type": "execute_result"
    }
   ],
   "source": [
    "%%time\n",
    "logit_c_values1 = np.logspace(-4, 2, 10)\n",
    "\n",
    "logit_grid_searcher1 = LogisticRegressionCV(Cs=logit_c_values1, \n",
    "                                            multi_class='multinomial', \n",
    "                                            cv=skf, random_state=17)  \n",
    "logit_grid_searcher1.fit(X_train, y_train)"
   ]
  },
  {
   "cell_type": "markdown",
   "metadata": {},
   "source": [
    "Средние значения доли правильных ответов на кросс-валидации по каждому из 10 параметров `C`."
   ]
  },
  {
   "cell_type": "code",
   "execution_count": 19,
   "metadata": {},
   "outputs": [],
   "source": [
    "logit_mean_cv_scores1 = np.mean(list(logit_grid_searcher1.scores_.values())[0], axis=0)"
   ]
  },
  {
   "cell_type": "markdown",
   "metadata": {},
   "source": [
    "Выведите лучшее значение доли правильных ответов на кросс-валидации и соответствующее значение `C`."
   ]
  },
  {
   "cell_type": "code",
   "execution_count": 20,
   "metadata": {},
   "outputs": [
    {
     "name": "stdout",
     "output_type": "stream",
     "text": [
      "The best accuracy score: 0.7609238210638735\n",
      "The best C value: 1.0\n"
     ]
    }
   ],
   "source": [
    "best_accuracy_score1 = max(logit_mean_cv_scores1)\n",
    "print('The best accuracy score: {}'.format(best_accuracy_score1))\n",
    "best_c_value1 = logit_grid_searcher1.Cs_[np.argmax(logit_mean_cv_scores1)]\n",
    "print('The best C value: {}'.format(best_c_value1))"
   ]
  },
  {
   "cell_type": "markdown",
   "metadata": {},
   "source": [
    "Нарисуйте график зависимости доли правильных ответов на кросс-валидации от `C`."
   ]
  },
  {
   "cell_type": "code",
   "execution_count": 21,
   "metadata": {},
   "outputs": [
    {
     "data": {
      "image/png": "[encoded data removed]",
      "text/plain": [
       "<Figure size 432x288 with 1 Axes>"
      ]
     },
     "metadata": {
      "needs_background": "light"
     },
     "output_type": "display_data"
    }
   ],
   "source": [
    "plt.plot(logit_c_values1, logit_mean_cv_scores1, color='blue')\n",
    "plt.title('График зависимости доли правильных ответов на кросс-валидации от С')\n",
    "plt.xlabel('Значение С')\n",
    "plt.ylabel('Доля правильных ответов')\n",
    "plt.show()"
   ]
  },
  {
   "cell_type": "markdown",
   "metadata": {},
   "source": [
    "**Теперь то же самое, только значения параметра `C` перебирайте в диапазоне `np.linspace`(0.1, 7, 20). Опять нарисуйте кривые валидации, определите максимальное значение доли правильных ответов на кросс-валидации.**"
   ]
  },
  {
   "cell_type": "code",
   "execution_count": 22,
   "metadata": {},
   "outputs": [
    {
     "name": "stdout",
     "output_type": "stream",
     "text": [
      "CPU times: user 3min 9s, sys: 11.1 s, total: 3min 21s\n",
      "Wall time: 1min 8s\n"
     ]
    },
    {
     "data": {
      "text/plain": [
       "LogisticRegressionCV(Cs=array([0.1       , 0.46315789, 0.82631579, 1.18947368, 1.55263158,\n",
       "       1.91578947, 2.27894737, 2.64210526, 3.00526316, 3.36842105,\n",
       "       3.73157895, 4.09473684, 4.45789474, 4.82105263, 5.18421053,\n",
       "       5.54736842, 5.91052632, 6.27368421, 6.63684211, 7.        ]),\n",
       "                     cv=StratifiedKFold(n_splits=3, random_state=17, shuffle=True),\n",
       "                     multi_class='multinomial', random_state=17)"
      ]
     },
     "execution_count": 22,
     "metadata": {},
     "output_type": "execute_result"
    }
   ],
   "source": [
    "%%time\n",
    "logit_c_values2 = np.linspace(0.1, 7, 20)\n",
    "\n",
    "logit_grid_searcher2 = LogisticRegressionCV(Cs=logit_c_values2, \n",
    "                                            multi_class='multinomial', \n",
    "                                            cv=skf, random_state=17)\n",
    "logit_grid_searcher2.fit(X_train, y_train)"
   ]
  },
  {
   "cell_type": "markdown",
   "metadata": {},
   "source": [
    "Средние значения доли правильных ответов на кросс-валидации по каждому из 10 параметров `C`."
   ]
  },
  {
   "cell_type": "code",
   "execution_count": 23,
   "metadata": {},
   "outputs": [],
   "source": [
    "logit_mean_cv_scores2 = np.mean(list(logit_grid_searcher2.scores_.values())[0], axis=0)"
   ]
  },
  {
   "cell_type": "markdown",
   "metadata": {},
   "source": [
    "Выведите лучшее значение доли правильных ответов на кросс-валидации и соответствующее значение `C`."
   ]
  },
  {
   "cell_type": "code",
   "execution_count": 24,
   "metadata": {},
   "outputs": [
    {
     "name": "stdout",
     "output_type": "stream",
     "text": [
      "The best accuracy score: 0.7613302012325214\n",
      "The best C value: 1.5526315789473686\n"
     ]
    }
   ],
   "source": [
    "best_accuracy_score2 = max(logit_mean_cv_scores2)\n",
    "print('The best accuracy score: {}'.format(best_accuracy_score2))\n",
    "best_c_value2 = logit_grid_searcher2.Cs_[np.argmax(logit_mean_cv_scores2)]\n",
    "print('The best C value: {}'.format(best_c_value2))"
   ]
  },
  {
   "cell_type": "markdown",
   "metadata": {},
   "source": [
    "Нарисуйте график зависимости доли правильных ответов на кросс-валидации от `C`."
   ]
  },
  {
   "cell_type": "code",
   "execution_count": 25,
   "metadata": {},
   "outputs": [
    {
     "data": {
      "image/png": "[encoded data removed]",
      "text/plain": [
       "<Figure size 432x288 with 1 Axes>"
      ]
     },
     "metadata": {
      "needs_background": "light"
     },
     "output_type": "display_data"
    }
   ],
   "source": [
    "plt.plot(logit_c_values2, logit_mean_cv_scores2, color='blue')\n",
    "plt.title('График зависимости доли правильных ответов на кросс-валидации от С')\n",
    "plt.xlabel('Значение С')\n",
    "plt.ylabel('Доля правильных ответов')\n",
    "plt.show()"
   ]
  },
  {
   "cell_type": "markdown",
   "metadata": {},
   "source": [
    "Выведите долю правильных ответов на выборке `(X_valid, y_valid)` для логистической регрессии с лучшим найденным значением `C`."
   ]
  },
  {
   "cell_type": "code",
   "execution_count": 26,
   "metadata": {},
   "outputs": [
    {
     "name": "stdout",
     "output_type": "stream",
     "text": [
      "0.7788575491822707\n"
     ]
    }
   ],
   "source": [
    "logit_cv_acc = accuracy_score(y_valid, logit_grid_searcher2.predict(X_valid))\n",
    "print(logit_cv_acc)"
   ]
  },
  {
   "cell_type": "markdown",
   "metadata": {},
   "source": [
    "**<font color='red'>Вопрос 3. </font>Посчитайте доли правильных ответов для `logit_grid_searcher2` на кросс-валидации для лучшего значения параметра `C` и на отложенной выборке. Округлите каждое до 3 знаков после запятой и выведите через пробел.**"
   ]
  },
  {
   "cell_type": "code",
   "execution_count": 27,
   "metadata": {},
   "outputs": [
    {
     "name": "stdout",
     "output_type": "stream",
     "text": [
      "LogisticRegression with best C cross_val_score: 0.7615334222909435\n",
      "LogisticRegression with best C valid accuracy score: 0.7788575491822707\n"
     ]
    }
   ],
   "source": [
    "logit_cv_cvs = cross_val_score(logit_grid_searcher2, X_train, y_train, \n",
    "                               cv=skf, scoring='accuracy').mean()\n",
    "print('LogisticRegression with best C cross_val_score: {}'.format(logit_cv_cvs.mean()))\n",
    "print('LogisticRegression with best C valid accuracy score: {}'.format(logit_cv_acc))"
   ]
  },
  {
   "cell_type": "code",
   "execution_count": 28,
   "metadata": {},
   "outputs": [],
   "source": [
    "answer4_3 = [round(x, 3) for x in [logit_cv_cvs, logit_cv_acc]]\n",
    "write_answer_to_file(answer4_3, 'answers/week4/answer4_3.txt')"
   ]
  },
  {
   "cell_type": "markdown",
   "metadata": {},
   "source": [
    "**4. Обучите линейный SVM (`LinearSVC`) с параметром `C`=1 и `random_state`=17 (для воспроизводимости). Посмотрите на долю правильных ответов на кросс-валидации (используйте объект `skf`, созданный ранее) и на выборке `(X_valid, y_valid)`.**"
   ]
  },
  {
   "cell_type": "code",
   "execution_count": 29,
   "metadata": {},
   "outputs": [],
   "source": [
    "from sklearn.svm import LinearSVC"
   ]
  },
  {
   "cell_type": "code",
   "execution_count": 30,
   "metadata": {},
   "outputs": [
    {
     "name": "stdout",
     "output_type": "stream",
     "text": [
      "SVM cross_val_score: 0.7509671352428245\n"
     ]
    }
   ],
   "source": [
    "svm = LinearSVC(C=1, random_state=17)\n",
    "svm_cross_val_score = cross_val_score(svm, X_train, y_train, \n",
    "                                      cv=skf, scoring='accuracy').mean()\n",
    "print('SVM cross_val_score: {}'.format(svm_cross_val_score))"
   ]
  },
  {
   "cell_type": "markdown",
   "metadata": {},
   "source": [
    "**С помощью `GridSearchCV` подберите параметр `C` для SVM сначала в широком диапазоне: 10 значений от 1e-4 до 1e4, используйте `linspace` из NumPy. Нарисуйте кривые валидации.**"
   ]
  },
  {
   "cell_type": "code",
   "execution_count": 31,
   "metadata": {},
   "outputs": [
    {
     "name": "stdout",
     "output_type": "stream",
     "text": [
      "CPU times: user 1min 30s, sys: 103 ms, total: 1min 31s\n",
      "Wall time: 1min 31s\n"
     ]
    },
    {
     "data": {
      "text/plain": [
       "GridSearchCV(estimator=LinearSVC(C=1, random_state=17),\n",
       "             param_grid={'C': array([1.0000000e-04, 1.1111112e+03, 2.2222223e+03, 3.3333334e+03,\n",
       "       4.4444445e+03, 5.5555556e+03, 6.6666667e+03, 7.7777778e+03,\n",
       "       8.8888889e+03, 1.0000000e+04])},\n",
       "             return_train_score=True, scoring='accuracy')"
      ]
     },
     "execution_count": 31,
     "metadata": {},
     "output_type": "execute_result"
    }
   ],
   "source": [
    "%%time\n",
    "svm_params1 = {'C': np.linspace(1e-4, 1e4, 10)}\n",
    "svm_grid_searcher1 = GridSearchCV(svm, svm_params1, scoring='accuracy', \n",
    "                                  return_train_score=True)\n",
    "svm_grid_searcher1.fit(X_train, y_train)"
   ]
  },
  {
   "cell_type": "markdown",
   "metadata": {},
   "source": [
    "Выведите лучшее значение доли правильных ответов на кросс-валидации и соответствующее значение `C`."
   ]
  },
  {
   "cell_type": "code",
   "execution_count": 32,
   "metadata": {},
   "outputs": [
    {
     "name": "stdout",
     "output_type": "stream",
     "text": [
      "The best cross-validation accuracy score: 0.6952843773612952\n",
      "The best C value: {'C': 4444.4445000000005}\n"
     ]
    }
   ],
   "source": [
    "print('The best cross-validation accuracy score: {}'.format(svm_grid_searcher1.best_score_))\n",
    "print('The best C value: {}'.format(svm_grid_searcher1.best_params_))"
   ]
  },
  {
   "cell_type": "markdown",
   "metadata": {},
   "source": [
    "Нарисуйте график зависимости доли правильных ответов на кросс-валидации от `C`."
   ]
  },
  {
   "cell_type": "code",
   "execution_count": 33,
   "metadata": {},
   "outputs": [
    {
     "data": {
      "image/png": "[encoded data removed]",
      "text/plain": [
       "<Figure size 432x288 with 1 Axes>"
      ]
     },
     "metadata": {
      "needs_background": "light"
     },
     "output_type": "display_data"
    }
   ],
   "source": [
    "plot_validation_curves(svm_params1['C'], svm_grid_searcher1.cv_results_)"
   ]
  },
  {
   "cell_type": "markdown",
   "metadata": {},
   "source": [
    "**Но мы помним, что с параметром регуляризации по умолчанию (С=1) на кросс-валидации доля правильных ответов выше. Это тот случай (не редкий), когда можно ошибиться и перебирать параметры не в том диапазоне (причина в том, что мы взяли равномерную сетку на большом интервале и упустили действительно хороший интервал значений `C`). Здесь намного осмысленней подбирать `C` в районе 1, к тому же, так модель быстрее обучается, чем при больших `C`. **\n",
    "\n",
    "**С помощью `GridSearchCV` подберите параметр `C` для SVM в диапазоне (1e-3, 1), 30 значений, используйте `linspace` из NumPy. Нарисуйте кривые валидации.**"
   ]
  },
  {
   "cell_type": "code",
   "execution_count": 34,
   "metadata": {},
   "outputs": [
    {
     "name": "stdout",
     "output_type": "stream",
     "text": [
      "CPU times: user 2min 33s, sys: 200 ms, total: 2min 33s\n",
      "Wall time: 2min 33s\n"
     ]
    },
    {
     "data": {
      "text/plain": [
       "GridSearchCV(estimator=LinearSVC(C=1, random_state=17),\n",
       "             param_grid={'C': array([0.001     , 0.03544828, 0.06989655, 0.10434483, 0.1387931 ,\n",
       "       0.17324138, 0.20768966, 0.24213793, 0.27658621, 0.31103448,\n",
       "       0.34548276, 0.37993103, 0.41437931, 0.44882759, 0.48327586,\n",
       "       0.51772414, 0.55217241, 0.58662069, 0.62106897, 0.65551724,\n",
       "       0.68996552, 0.72441379, 0.75886207, 0.79331034, 0.82775862,\n",
       "       0.8622069 , 0.89665517, 0.93110345, 0.96555172, 1.        ])},\n",
       "             return_train_score=True, scoring='accuracy')"
      ]
     },
     "execution_count": 34,
     "metadata": {},
     "output_type": "execute_result"
    }
   ],
   "source": [
    "%%time\n",
    "svm_params2 = {'C': np.linspace(1e-3, 1, 30)}\n",
    "svm_grid_searcher2 = GridSearchCV(svm, svm_params2, scoring='accuracy', \n",
    "                                  return_train_score=True)\n",
    "svm_grid_searcher2.fit(X_train, y_train)"
   ]
  },
  {
   "cell_type": "markdown",
   "metadata": {},
   "source": [
    "Выведите лучшее значение доли правильных ответов на кросс-валидации и соответствующее значение `C`."
   ]
  },
  {
   "cell_type": "code",
   "execution_count": 35,
   "metadata": {},
   "outputs": [
    {
     "name": "stdout",
     "output_type": "stream",
     "text": [
      "The best cross-validation accuracy score: 0.7701686093803548\n",
      "The best C value: {'C': 0.10434482758620689}\n"
     ]
    }
   ],
   "source": [
    "print('The best cross-validation accuracy score: {}'.format(svm_grid_searcher2.best_score_))\n",
    "print('The best C value: {}'.format(svm_grid_searcher2.best_params_))"
   ]
  },
  {
   "cell_type": "markdown",
   "metadata": {},
   "source": [
    "Нарисуйте график зависимости доли правильных ответов на кросс-валидации от С."
   ]
  },
  {
   "cell_type": "code",
   "execution_count": 36,
   "metadata": {},
   "outputs": [
    {
     "data": {
      "image/png": "[encoded data removed]",
      "text/plain": [
       "<Figure size 432x288 with 1 Axes>"
      ]
     },
     "metadata": {
      "needs_background": "light"
     },
     "output_type": "display_data"
    }
   ],
   "source": [
    "plot_validation_curves(svm_params2['C'], svm_grid_searcher2.cv_results_)"
   ]
  },
  {
   "cell_type": "markdown",
   "metadata": {},
   "source": [
    "Выведите долю правильных ответов на выборке `(X_valid, y_valid)` для `LinearSVC` с лучшим найденным значением `C`."
   ]
  },
  {
   "cell_type": "code",
   "execution_count": 37,
   "metadata": {},
   "outputs": [
    {
     "name": "stdout",
     "output_type": "stream",
     "text": [
      "0.7807537331121118\n"
     ]
    }
   ],
   "source": [
    "svm_cv_acc = accuracy_score(y_valid, svm_grid_searcher2.best_estimator_.predict(X_valid))\n",
    "print(svm_cv_acc)"
   ]
  },
  {
   "cell_type": "markdown",
   "metadata": {},
   "source": [
    "**<font color='red'>Вопрос 4. </font> Посчитайте доли правильных ответов для `svm_grid_searcher2` на кросс-валидации для лучшего значения параметра `C` и на отложенной выборке. Округлите каждое до 3 знаков после запятой и выведите через пробел.**"
   ]
  },
  {
   "cell_type": "code",
   "execution_count": 38,
   "metadata": {},
   "outputs": [
    {
     "name": "stdout",
     "output_type": "stream",
     "text": [
      "SVM with the best C cross_val_score: 0.7670206386611259\n",
      "SVM with the best C valid accuracy score: 0.7807537331121118\n"
     ]
    }
   ],
   "source": [
    "svm_cv_cvs = cross_val_score(svm_grid_searcher2.best_estimator_, X_train, y_train, \n",
    "                             cv=skf, scoring='accuracy').mean()\n",
    "print('SVM with the best C cross_val_score: {}'.format(svm_cv_cvs))\n",
    "print('SVM with the best C valid accuracy score: {}'.format(svm_cv_acc))"
   ]
  },
  {
   "cell_type": "code",
   "execution_count": 39,
   "metadata": {},
   "outputs": [],
   "source": [
    "answer4_4 = [round(x, 3) for x in [svm_cv_cvs, svm_cv_acc]]\n",
    "write_answer_to_file(answer4_4, 'answers/week4/answer4_4.txt')"
   ]
  },
  {
   "cell_type": "markdown",
   "metadata": {},
   "source": [
    "## Часть 2. Выбор параметров – длины сессии и ширины окна"
   ]
  },
  {
   "cell_type": "markdown",
   "metadata": {},
   "source": [
    "**Возьмем `LinearSVC`, показавший лучшее качество на кросс-валидации в 1 части, и проверим его работу еще на 8 выборках для 10 пользователей (с разными сочетаниями параметров *session_length* и *window_size*). Поскольку тут уже вычислений побольше, мы не будем каждый раз заново подбирать параметр регуляризации `C`.**\n",
    "\n",
    "**Определите функцию `model_assessment`, ее документация описана ниже. Обратите внимание на все детали. Например, на то, что разбиение  выборки с `train_test_split` должно быть стратифицированным. Не теряйте нигде `random_state`.**"
   ]
  },
  {
   "cell_type": "code",
   "execution_count": 40,
   "metadata": {},
   "outputs": [],
   "source": [
    "def model_assessment(estimator, path_to_X_pickle, path_to_y_pickle, cv, random_state=17, test_size=0.3):\n",
    "    '''\n",
    "    Estimates CV-accuracy for (1 - test_size) share of (X_sparse, y) \n",
    "    loaded from path_to_X_pickle and path_to_y_pickle and holdout accuracy for (test_size) share of (X_sparse, y).\n",
    "    The split is made with stratified train_test_split with params random_state and test_size.\n",
    "    \n",
    "    :param estimator – Scikit-learn estimator (classifier or regressor)\n",
    "    :param path_to_X_pickle – path to pickled sparse X (instances and their features)\n",
    "    :param path_to_y_pickle – path to pickled y (responses)\n",
    "    :param cv – cross-validation as in cross_val_score (use StratifiedKFold here)\n",
    "    :param random_state –  for train_test_split\n",
    "    :param test_size –  for train_test_split\n",
    "    \n",
    "    :returns mean CV-accuracy for (X_train, y_train) and accuracy for (X_valid, y_valid) where (X_train, y_train)\n",
    "    and (X_valid, y_valid) are (1 - test_size) and (testsize) shares of (X_sparse, y).\n",
    "    '''\n",
    "    \n",
    "    with open(path_to_X_pickle, 'rb') as X_f:\n",
    "        X_sparse = pickle.load(X_f)\n",
    "    with open(path_to_y_pickle, 'rb') as y_f:\n",
    "        y = pickle.load(y_f)\n",
    "        \n",
    "    X_train, X_valid, y_train, y_valid = train_test_split(X_sparse, y, stratify=y, \n",
    "                                                          random_state=17, test_size=test_size)\n",
    "    estimator_cvs = cross_val_score(estimator, X_train, y_train, \n",
    "                                    cv=cv, scoring='accuracy').mean()\n",
    "    estimator.fit(X_train, y_train)\n",
    "    estimator_valid_acc = accuracy_score(y_valid, estimator.predict(X_valid))\n",
    "    \n",
    "    return(estimator_cvs, estimator_valid_acc)"
   ]
  },
  {
   "cell_type": "markdown",
   "metadata": {},
   "source": [
    "**Убедитесь, что функция работает.**"
   ]
  },
  {
   "cell_type": "code",
   "execution_count": 41,
   "metadata": {},
   "outputs": [
    {
     "data": {
      "text/plain": [
       "(0.7670206386611259, 0.7807537331121118)"
      ]
     },
     "execution_count": 41,
     "metadata": {},
     "output_type": "execute_result"
    }
   ],
   "source": [
    "model_assessment(svm_grid_searcher2.best_estimator_, \n",
    "                 os.path.join(PATH_TO_DATA, 'X_sparse_10users.pkl'), \n",
    "                 os.path.join(PATH_TO_DATA, 'y_10users.pkl'), skf, \n",
    "                 random_state=17, test_size=0.3)"
   ]
  },
  {
   "cell_type": "markdown",
   "metadata": {},
   "source": [
    "**Примените функцию *model_assessment* для лучшего алгоритма из предыдущей части (а именно, `svm_grid_searcher2.best_estimator_`) и 9 выборок вида с разными сочетаниями параметров *session_length* и *window_size* для 10 пользователей. Выведите в цикле параметры *session_length* и *window_size*, а также результат вывода функции *model_assessment*. \n",
    "Удобно сделать так, чтоб *model_assessment* возвращала 3-им элементом время, за которое она выполнилась. На моем ноуте этот участок кода выполнился за 20 секунд. Но со 150 пользователями каждая итерация занимает уже несколько минут.**"
   ]
  },
  {
   "cell_type": "markdown",
   "metadata": {},
   "source": [
    "Здесь для удобства стоит создать копии ранее созданных pickle-файлов X_sparse_10users.pkl, X_sparse_150users.pkl, y_10users.pkl и y_150users.pkl, добавив к их названиям s10_w10, что означает длину сессии 10 и ширину окна 10. "
   ]
  },
  {
   "cell_type": "code",
   "execution_count": 42,
   "metadata": {},
   "outputs": [],
   "source": [
    "!cp $PATH_TO_DATA/X_sparse_10users.pkl $PATH_TO_DATA/X_sparse_10users_s10_w10.pkl \n",
    "!cp $PATH_TO_DATA/X_sparse_150users.pkl $PATH_TO_DATA/X_sparse_150users_s10_w10.pkl \n",
    "!cp $PATH_TO_DATA/y_10users.pkl $PATH_TO_DATA/y_10users_s10_w10.pkl \n",
    "!cp $PATH_TO_DATA/y_150users.pkl $PATH_TO_DATA/y_150users_s10_w10.pkl "
   ]
  },
  {
   "cell_type": "code",
   "execution_count": 43,
   "metadata": {},
   "outputs": [
    {
     "name": "stdout",
     "output_type": "stream",
     "text": [
      "session_length = 15\n",
      "window_size = 10\n",
      "cross_val_score = 0.824, valid accuracy score = 0.84\n",
      "\n",
      "session_length = 10\n",
      "window_size = 10\n",
      "cross_val_score = 0.767, valid accuracy score = 0.781\n",
      "\n",
      "session_length = 15\n",
      "window_size = 7\n",
      "cross_val_score = 0.85, valid accuracy score = 0.854\n",
      "\n",
      "session_length = 10\n",
      "window_size = 7\n",
      "cross_val_score = 0.798, valid accuracy score = 0.807\n",
      "\n",
      "session_length = 7\n",
      "window_size = 7\n",
      "cross_val_score = 0.755, valid accuracy score = 0.762\n",
      "\n",
      "session_length = 15\n",
      "window_size = 5\n",
      "cross_val_score = 0.867, valid accuracy score = 0.875\n",
      "\n",
      "session_length = 10\n",
      "window_size = 5\n",
      "cross_val_score = 0.818, valid accuracy score = 0.825\n",
      "\n",
      "session_length = 7\n",
      "window_size = 5\n",
      "cross_val_score = 0.773, valid accuracy score = 0.785\n",
      "\n",
      "session_length = 5\n",
      "window_size = 5\n",
      "cross_val_score = 0.725, valid accuracy score = 0.736\n",
      "\n",
      "CPU times: user 22.2 s, sys: 191 ms, total: 22.4 s\n",
      "Wall time: 22.6 s\n"
     ]
    }
   ],
   "source": [
    "%%time\n",
    "estimator = svm_grid_searcher2.best_estimator_\n",
    "\n",
    "for window_size, session_length in itertools.product([10, 7, 5], [15, 10, 7, 5]):\n",
    "    if window_size <= session_length:\n",
    "        path_to_X_pkl = os.path.join(PATH_TO_DATA, 'X_sparse_10users_s{}_w{}.pkl'.format(session_length, \n",
    "                                                                                         window_size))\n",
    "        path_to_y_pkl = os.path.join(PATH_TO_DATA, 'y_10users_s{}_w{}.pkl'.format(session_length, \n",
    "                                                                                  window_size))\n",
    "        print('session_length = {}\\nwindow_size = {}'.format(session_length, \n",
    "                                                             window_size))\n",
    "        res = [round(x, 3) for x in model_assessment(estimator, path_to_X_pkl, path_to_y_pkl, cv=skf)]\n",
    "        print('cross_val_score = {}, valid accuracy score = {}\\n'.format(res[0], res[1]))"
   ]
  },
  {
   "cell_type": "markdown",
   "metadata": {},
   "source": [
    "**<font color='red'>Вопрос 5. </font> Посчитайте доли правильных ответов для `LinearSVC` с настроенным параметром `C` и выборки `X_sparse_10users_s15_w5`. Укажите доли правильных ответов на кросс-валидации и на отложенной выборке. Округлите каждое до 3 знаков после запятой и выведите через пробел.**"
   ]
  },
  {
   "cell_type": "code",
   "execution_count": 44,
   "metadata": {},
   "outputs": [],
   "source": [
    "res_10u_s15_w5 = model_assessment(svm_grid_searcher2.best_estimator_, \n",
    "                                  os.path.join(PATH_TO_DATA, 'X_sparse_10users_s15_w5.pkl'),\n",
    "                                  os.path.join(PATH_TO_DATA, 'y_10users_s15_w5.pkl'), \n",
    "                                  skf, random_state=17, test_size=0.3)\n",
    "answer4_5 = [round(x, 3) for x in res_10u_s15_w5]\n",
    "write_answer_to_file(answer4_5, 'answers/week4/answer4_5.txt')"
   ]
  },
  {
   "cell_type": "markdown",
   "metadata": {},
   "source": [
    "**Прокомментируйте полученные результаты. Сравните для 150 пользователей доли правильных ответов на кросс-валидации и оставленной выборке для сочетаний параметров (*session_length, window_size*): (5,5), (7,7) и (10,10). На среднем ноуте это может занять до часа – запаситесь терпением, это Data Science :) **\n",
    "\n",
    "**Сделайте вывод о том, как качество классификации зависит от длины сессии и ширины окна.**"
   ]
  },
  {
   "cell_type": "code",
   "execution_count": 45,
   "metadata": {},
   "outputs": [
    {
     "name": "stdout",
     "output_type": "stream",
     "text": [
      "session_length = 5\n",
      "window_size = 5\n",
      "cross_val_score = 0.408, valid accuracy score = 0.422\n",
      "\n",
      "session_length = 7\n",
      "window_size = 7\n",
      "cross_val_score = 0.437, valid accuracy score = 0.453\n",
      "\n",
      "session_length = 10\n",
      "window_size = 10\n",
      "cross_val_score = 0.463, valid accuracy score = 0.484\n",
      "\n",
      "CPU times: user 16min 14s, sys: 3.05 s, total: 16min 17s\n",
      "Wall time: 16min 20s\n"
     ]
    }
   ],
   "source": [
    "%%time\n",
    "estimator = svm_grid_searcher2.best_estimator_\n",
    "\n",
    "for window_size, session_length in [(5,5), (7,7), (10,10)]:\n",
    "    path_to_X_pkl = os.path.join(PATH_TO_DATA, 'X_sparse_150users_s{}_w{}.pkl'.format(session_length, \n",
    "                                                                                      window_size))\n",
    "    path_to_y_pkl = os.path.join(PATH_TO_DATA, 'y_150users_s{}_w{}.pkl'.format(session_length, \n",
    "                                                                               window_size))\n",
    "    print('session_length = {}\\nwindow_size = {}'.format(session_length, window_size))\n",
    "    res = [round(x, 3) for x in model_assessment(estimator, path_to_X_pkl, path_to_y_pkl, cv=skf)]\n",
    "    print('cross_val_score = {}, valid accuracy score = {}\\n'.format(res[0], res[1]))"
   ]
  },
  {
   "cell_type": "markdown",
   "metadata": {},
   "source": [
    "**<font color='red'>Вопрос 6. </font> Посчитайте доли правильных ответов для `LinearSVC` с настроенным параметром `C` и выборки `X_sparse_150users`. Укажите доли правильных ответов на кросс-валидации и на отложенной выборке. Округлите каждое до 3 знаков после запятой и выведите через пробел.**"
   ]
  },
  {
   "cell_type": "code",
   "execution_count": 46,
   "metadata": {},
   "outputs": [],
   "source": [
    "res_150u = model_assessment(svm_grid_searcher2.best_estimator_, \n",
    "                            os.path.join(PATH_TO_DATA, 'X_sparse_150users.pkl'),\n",
    "                            os.path.join(PATH_TO_DATA, 'y_150users.pkl'), \n",
    "                            skf, random_state=17, test_size=0.3)\n",
    "answer4_6 = [round(x, 3) for x in res_150u]\n",
    "write_answer_to_file(answer4_6, 'answers/week4/answer4_6.txt')"
   ]
  },
  {
   "cell_type": "markdown",
   "metadata": {},
   "source": [
    "## Часть 3. Идентификация  конкретного пользователя и кривые обучения"
   ]
  },
  {
   "cell_type": "markdown",
   "metadata": {},
   "source": [
    "**Поскольку может разочаровать, что многоклассовая доля правильных ответов на выборке из 150 пользовалей невелика, порадуемся тому, что конкретного пользователя можно идентифицировать достаточно хорошо. **"
   ]
  },
  {
   "cell_type": "markdown",
   "metadata": {},
   "source": [
    "**Загрузим сериализованные ранее объекты *X_sparse_150users* и *y_150users*, соответствующие обучающей выборке для 150 пользователей с параметрами (*session_length, window_size*) = (10,10). Так же точно разобьем их на 70% и 30%.**"
   ]
  },
  {
   "cell_type": "code",
   "execution_count": 47,
   "metadata": {},
   "outputs": [],
   "source": [
    "with open(os.path.join(PATH_TO_DATA, 'X_sparse_150users.pkl'), 'rb') as X_sparse_150users_pkl:\n",
    "     X_sparse_150users = pickle.load(X_sparse_150users_pkl)\n",
    "with open(os.path.join(PATH_TO_DATA, 'y_150users.pkl'), 'rb') as y_150users_pkl:\n",
    "    y_150users = pickle.load(y_150users_pkl)"
   ]
  },
  {
   "cell_type": "code",
   "execution_count": 48,
   "metadata": {},
   "outputs": [],
   "source": [
    "X_train_150, X_valid_150, y_train_150, y_valid_150 = train_test_split(X_sparse_150users, \n",
    "                                                                      y_150users, test_size=0.3, \n",
    "                                                                      random_state=17, \n",
    "                                                                      stratify=y_150users)"
   ]
  },
  {
   "cell_type": "markdown",
   "metadata": {},
   "source": [
    "**Обучите `LogisticRegressionCV` для одного значения параметра `C` (лучшего на кросс-валидации в 1 части, используйте точное значение, не на глаз). Теперь будем решать 150 задач \"Один-против-Всех\", поэтому укажите аргумент `multi_class`='ovr'. Как всегда, где возможно, указывайте `n_jobs=-1` и `random_state`=17.**"
   ]
  },
  {
   "cell_type": "code",
   "execution_count": 49,
   "metadata": {},
   "outputs": [
    {
     "name": "stdout",
     "output_type": "stream",
     "text": [
      "CPU times: user 31min 34s, sys: 1min 49s, total: 33min 23s\n",
      "Wall time: 11min 14s\n"
     ]
    },
    {
     "data": {
      "text/plain": [
       "LogisticRegressionCV(Cs=[3.7315789473684213],\n",
       "                     cv=StratifiedKFold(n_splits=3, random_state=17, shuffle=True),\n",
       "                     multi_class='ovr', random_state=17, scoring='accuracy')"
      ]
     },
     "execution_count": 49,
     "metadata": {},
     "output_type": "execute_result"
    }
   ],
   "source": [
    "%%time\n",
    "logit_cv_150users = LogisticRegressionCV(Cs=[logit_grid_searcher2.Cs_[10]], multi_class='ovr', cv=skf,\n",
    "                                         random_state=17, scoring='accuracy')\n",
    "logit_cv_150users.fit(X_train_150, y_train_150)"
   ]
  },
  {
   "cell_type": "markdown",
   "metadata": {},
   "source": [
    "**Посмотрите на средние доли правильных ответов на кросс-валидации в задаче идентификации каждого пользователя по отдельности.**"
   ]
  },
  {
   "cell_type": "code",
   "execution_count": 50,
   "metadata": {},
   "outputs": [
    {
     "name": "stdout",
     "output_type": "stream",
     "text": [
      "User 6, CV score: 0.9961110589805345\n",
      "User 13, CV score: 0.9963612857485429\n",
      "User 15, CV score: 0.9952769697538395\n",
      "User 16, CV score: 0.9917946472323876\n",
      "User 28, CV score: 0.9903558433163387\n",
      "User 31, CV score: 0.9941718015284685\n",
      "User 33, CV score: 0.9937234785691199\n",
      "User 39, CV score: 0.9858309092615182\n",
      "User 46, CV score: 0.9979669075099308\n",
      "User 49, CV score: 0.9953082480998404\n",
      "User 50, CV score: 0.994286488797139\n",
      "User 53, CV score: 0.993587939069782\n",
      "User 65, CV score: 0.9968825915152273\n",
      "User 66, CV score: 0.9947869423331562\n",
      "User 82, CV score: 0.9963195812872083\n",
      "User 85, CV score: 0.9963821379792104\n",
      "User 89, CV score: 0.9907103312376843\n",
      "User 92, CV score: 0.9944011760658097\n",
      "User 100, CV score: 0.9944428805271444\n",
      "User 102, CV score: 0.9912003586583675\n",
      "User 103, CV score: 0.9806491299406753\n",
      "User 105, CV score: 0.9969451482072295\n",
      "User 106, CV score: 0.9948390729098245\n",
      "User 118, CV score: 0.9910022624670275\n",
      "User 119, CV score: 0.9965802341705503\n",
      "User 120, CV score: 0.9943177671431401\n",
      "User 126, CV score: 0.9950475952164983\n",
      "User 127, CV score: 0.9915965510410475\n",
      "User 128, CV score: 0.9846214798828105\n",
      "User 138, CV score: 0.9969764265532305\n",
      "User 158, CV score: 0.9970494093605663\n",
      "User 160, CV score: 0.9967887564772241\n",
      "User 165, CV score: 0.9973309144745759\n",
      "User 172, CV score: 0.9964968252478809\n",
      "User 177, CV score: 0.9967574781312231\n",
      "User 203, CV score: 0.9976332718192529\n",
      "User 207, CV score: 0.987947410674257\n",
      "User 223, CV score: 0.9964759730172136\n",
      "User 233, CV score: 0.9963508596332092\n",
      "User 235, CV score: 0.9965802341705504\n",
      "User 236, CV score: 0.9899075203569901\n",
      "User 237, CV score: 0.9894591973976415\n",
      "User 238, CV score: 0.996163189557203\n",
      "User 240, CV score: 0.9956106054445174\n",
      "User 241, CV score: 0.9959442411351954\n",
      "User 242, CV score: 0.9951831347158362\n",
      "User 245, CV score: 0.9960693545191996\n",
      "User 246, CV score: 0.9969555743225632\n",
      "User 249, CV score: 0.9949329079478276\n",
      "User 252, CV score: 0.996361285748543\n",
      "User 254, CV score: 0.9920970045770646\n",
      "User 256, CV score: 0.9959859455965302\n",
      "User 258, CV score: 0.9959129627891944\n",
      "User 259, CV score: 0.9949016296018267\n",
      "User 260, CV score: 0.997299636128575\n",
      "User 261, CV score: 0.9898449636649881\n",
      "User 263, CV score: 0.9928268326504228\n",
      "User 264, CV score: 0.9965489558245494\n",
      "User 269, CV score: 0.9869882080635577\n",
      "User 270, CV score: 0.9894904757436427\n",
      "User 273, CV score: 0.9943281932584739\n",
      "User 287, CV score: 0.9899492248183249\n",
      "User 294, CV score: 0.9955793270985164\n",
      "User 298, CV score: 0.9912629153503696\n",
      "User 301, CV score: 0.9972683577825738\n",
      "User 308, CV score: 0.9956314576751849\n",
      "User 315, CV score: 0.997497732319915\n",
      "User 318, CV score: 0.9958399799818585\n",
      "User 327, CV score: 0.9965906602858841\n",
      "User 332, CV score: 0.9967053475545548\n",
      "User 333, CV score: 0.9962465984798724\n",
      "User 339, CV score: 0.9970806877065673\n",
      "User 340, CV score: 0.9966323647472187\n",
      "User 342, CV score: 0.9923055268837384\n",
      "User 344, CV score: 0.9965698080552167\n",
      "User 351, CV score: 0.9923472313450731\n",
      "User 356, CV score: 0.9976124195885855\n",
      "User 361, CV score: 0.9964863991325471\n",
      "User 363, CV score: 0.9965072513632146\n",
      "User 411, CV score: 0.9912316370043687\n",
      "User 417, CV score: 0.9966532169778862\n",
      "User 425, CV score: 0.9941613754131348\n",
      "User 430, CV score: 0.9961944679032039\n",
      "User 435, CV score: 0.9969451482072295\n",
      "User 436, CV score: 0.9951727086005026\n",
      "User 440, CV score: 0.9969660004378968\n",
      "User 444, CV score: 0.997893924702595\n",
      "User 475, CV score: 0.9891672661682983\n",
      "User 476, CV score: 0.9970494093605664\n",
      "User 486, CV score: 0.9954020831378436\n",
      "User 515, CV score: 0.9941196709518\n",
      "User 533, CV score: 0.9938590180684579\n",
      "User 561, CV score: 0.9843608269994683\n",
      "User 563, CV score: 0.9967574781312231\n",
      "User 564, CV score: 0.995725292713188\n",
      "User 568, CV score: 0.991648681617716\n",
      "User 569, CV score: 0.9893340840136373\n",
      "User 570, CV score: 0.9982379865086067\n",
      "User 573, CV score: 0.9905747917383462\n",
      "User 575, CV score: 0.990043059856328\n",
      "User 576, CV score: 0.9940779664904653\n",
      "User 580, CV score: 0.9866128679115448\n",
      "User 583, CV score: 0.9808680783626827\n",
      "User 584, CV score: 0.9810557484386893\n",
      "User 600, CV score: 0.9915027160030444\n",
      "User 603, CV score: 0.9956835882518532\n",
      "User 605, CV score: 0.9975498628965833\n",
      "User 640, CV score: 0.9972058010905717\n",
      "User 647, CV score: 0.9977166807419223\n",
      "User 653, CV score: 0.9973830450512443\n",
      "User 664, CV score: 0.9951414302545015\n",
      "User 665, CV score: 0.9968096087078915\n",
      "User 677, CV score: 0.9965176774785482\n",
      "User 692, CV score: 0.996893017630561\n",
      "User 697, CV score: 0.9958816844431934\n",
      "User 705, CV score: 0.996423842440545\n",
      "User 722, CV score: 0.9946931072951529\n",
      "User 740, CV score: 0.9966219386318852\n",
      "User 741, CV score: 0.9967157736698883\n",
      "User 756, CV score: 0.9956627360211859\n",
      "User 780, CV score: 0.9964759730172136\n",
      "User 784, CV score: 0.9966010864012178\n",
      "User 785, CV score: 0.9968096087078915\n",
      "User 797, CV score: 0.9957252927131881\n",
      "User 812, CV score: 0.9948286467944909\n",
      "User 844, CV score: 0.9970806877065673\n",
      "User 859, CV score: 0.9982067081626057\n",
      "User 868, CV score: 0.9964551207865462\n",
      "User 875, CV score: 0.9957357188285217\n",
      "User 932, CV score: 0.9904601044696756\n",
      "User 996, CV score: 0.9934523995704442\n",
      "User 1014, CV score: 0.9972370794365727\n",
      "User 1040, CV score: 0.9970598354759\n",
      "User 1054, CV score: 0.9964342685558787\n",
      "User 1248, CV score: 0.997800089664592\n",
      "User 1267, CV score: 0.9973309144745759\n",
      "User 1299, CV score: 0.9969347220918957\n",
      "User 1371, CV score: 0.9934106951091093\n",
      "User 1797, CV score: 0.9951101519085004\n",
      "User 1798, CV score: 0.9966323647472187\n",
      "User 1993, CV score: 0.9969034437458948\n",
      "User 2118, CV score: 0.9978730724719277\n",
      "User 2174, CV score: 0.9958399799818585\n",
      "User 2191, CV score: 0.9952456914078384\n",
      "User 2250, CV score: 0.9972683577825737\n",
      "User 2355, CV score: 0.9958816844431934\n",
      "User 2408, CV score: 0.9937026263384525\n",
      "User 2493, CV score: 0.9966532169778862\n",
      "User 2625, CV score: 0.9961840417878703\n",
      "User 2902, CV score: 0.9971640966292369\n"
     ]
    }
   ],
   "source": [
    "cv_scores_by_user = {}\n",
    "for user_id in logit_cv_150users.scores_:\n",
    "    cv_scores_by_user[user_id] = logit_cv_150users.scores_[user_id].mean()\n",
    "    print('User {}, CV score: {}'.format(user_id, cv_scores_by_user[user_id]))"
   ]
  },
  {
   "cell_type": "markdown",
   "metadata": {},
   "source": [
    "**Результаты кажутся впечатляющими, но возможно, мы забываем про дисбаланс классов, и высокую долю правильных ответов можно получить константным прогнозом. Посчитайте для каждого пользователя разницу между долей правильных ответов на кросс-валидации (только что посчитанную с помощью `LogisticRegressionCV`) и долей меток в *y_train_150*, отличных от ID \n",
    " этого пользователя (именно такую долю правильных ответов можно получить, если классификатор всегда \"говорит\", что это не пользователь с номером $i$ в задаче классификации $i$-vs-All).**"
   ]
  },
  {
   "cell_type": "code",
   "execution_count": 51,
   "metadata": {},
   "outputs": [],
   "source": [
    "class_distr = np.bincount(y_train_150.astype('int'))\n",
    "acc_diff_vs_constant = list()\n",
    "total = class_distr.sum()\n",
    "\n",
    "for user_id in np.unique(y_train_150):\n",
    "    accuracy_cvs = cv_scores_by_user[user_id]\n",
    "    classes_prop = (total - class_distr[user_id]) / total\n",
    "    acc_diff_vs_constant.append(accuracy_cvs - classes_prop)\n",
    "    \n",
    "acc_diff_vs_constant=pd.Series(acc_diff_vs_constant)"
   ]
  },
  {
   "cell_type": "code",
   "execution_count": 52,
   "metadata": {},
   "outputs": [],
   "source": [
    "num_better_than_default = (np.array(list(acc_diff_vs_constant.values)) > 0).sum()"
   ]
  },
  {
   "cell_type": "markdown",
   "metadata": {},
   "source": [
    "**<font color='red'>Вопрос 7. </font> Посчитайте долю пользователей, для которых логистическая регрессия на кросс-валидации дает прогноз лучше константного. Округлите до 3 знаков после запятой.**"
   ]
  },
  {
   "cell_type": "code",
   "execution_count": 53,
   "metadata": {},
   "outputs": [],
   "source": [
    "answer4_7 = round(num_better_than_default / 150, 3)\n",
    "\n",
    "with open('answers/week4/answer4_7.txt', 'w') as f:\n",
    "    f.write(str(answer4_7))"
   ]
  },
  {
   "cell_type": "markdown",
   "metadata": {},
   "source": [
    "**Дальше будем строить кривые обучения для конкретного пользователя, допустим, для 128-го. Составьте новый бинарный вектор на основе *y_150users*, его значения будут 1 или 0 в зависимости от того, равен ли ID-шник пользователя 128.**"
   ]
  },
  {
   "cell_type": "code",
   "execution_count": 54,
   "metadata": {},
   "outputs": [],
   "source": [
    "y_binary_128 = np.array(y_train_150 == 128)"
   ]
  },
  {
   "cell_type": "code",
   "execution_count": 55,
   "metadata": {},
   "outputs": [],
   "source": [
    "from sklearn.model_selection import learning_curve\n",
    "\n",
    "def plot_learning_curve(val_train, val_test, train_sizes, \n",
    "                        xlabel='Training Set Size', ylabel='score'):\n",
    "    def plot_with_err(x, data, **kwargs):\n",
    "        mu, std = data.mean(1), data.std(1)\n",
    "        lines = plt.plot(x, mu, '-', **kwargs)\n",
    "        plt.fill_between(x, mu - std, mu + std, edgecolor='none',\n",
    "                         facecolor=lines[0].get_color(), alpha=0.2)\n",
    "    plot_with_err(train_sizes, val_train, label='train')\n",
    "    plot_with_err(train_sizes, val_test, label='valid')\n",
    "    plt.xlabel(xlabel); plt.ylabel(ylabel)\n",
    "    plt.legend(loc='lower right');"
   ]
  },
  {
   "cell_type": "markdown",
   "metadata": {},
   "source": [
    "**Посчитайте доли правильных ответов на кросс-валидации в задаче классификации \"user128-vs-All\" в зависимости от размера выборки. Не помешает посмотреть встроенную документацию для *learning_curve*.**"
   ]
  },
  {
   "cell_type": "code",
   "execution_count": 56,
   "metadata": {},
   "outputs": [
    {
     "name": "stdout",
     "output_type": "stream",
     "text": [
      "CPU times: user 12.2 s, sys: 387 ms, total: 12.6 s\n",
      "Wall time: 12.5 s\n"
     ]
    }
   ],
   "source": [
    "%%time\n",
    "train_sizes = np.linspace(0.25, 1, 20)\n",
    "estimator = svm_grid_searcher2.best_estimator_\n",
    "n_train, val_train, val_test = learning_curve(estimator, X_train_150, \n",
    "                                              y_binary_128, train_sizes=train_sizes, \n",
    "                                              cv=skf)"
   ]
  },
  {
   "cell_type": "code",
   "execution_count": 57,
   "metadata": {},
   "outputs": [
    {
     "data": {
      "image/png": "[encoded data removed]",
      "text/plain": [
       "<Figure size 432x288 with 1 Axes>"
      ]
     },
     "metadata": {
      "needs_background": "light"
     },
     "output_type": "display_data"
    }
   ],
   "source": [
    "plot_learning_curve(val_train, val_test, n_train, \n",
    "                    xlabel='train_size', ylabel='accuracy')"
   ]
  },
  {
   "cell_type": "markdown",
   "metadata": {},
   "source": [
    "**Сделайте выводы о том, помогут ли алгоритму новые размеченные данные при той же постановке задачи.**"
   ]
  },
  {
   "cell_type": "markdown",
   "metadata": {},
   "source": [
    "## Пути улучшения\n",
    "- конечно, можно проверить еще кучу алгоритмов, например, Xgboost, но в такой задаче очень маловероятно, что что-то справится лучше линейных методов\n",
    "- интересно проверить качество алгоритма на данных, где сессии выделялись не по количеству посещенных сайтов, а по времени, например, 5, 7, 10 и 15 минут. Отдельно стоит отметить данные нашего [соревнования](https://inclass.kaggle.com/c/catch-me-if-you-can-intruder-detection-through-webpage-session-tracking2) \n",
    "- опять же, если ресурсы позволяют, можно проверить, насколько хорошо можно решить задачу для 3000 пользователей\n",
    "\n",
    "\n",
    "На следующей неделе мы вспомним про линейные модели, обучаемые стохастическим градиентным спуском, и порадуемся тому, насколько быстрее они работают. Также сделаем первые (или не первые) посылки в [соревновании](https://inclass.kaggle.com/c/catch-me-if-you-can-intruder-detection-through-webpage-session-tracking2) Kaggle Inclass."
   ]
  }
 ],
 "metadata": {
  "anaconda-cloud": {},
  "kernelspec": {
   "display_name": "Python 3",
   "language": "python",
   "name": "python3"
  },
  "language_info": {
   "codemirror_mode": {
    "name": "ipython",
    "version": 3
   },
   "file_extension": ".py",
   "mimetype": "text/x-python",
   "name": "python",
   "nbconvert_exporter": "python",
   "pygments_lexer": "ipython3",
   "version": "3.8.3"
  }
 },
 "nbformat": 4,
 "nbformat_minor": 1
}
